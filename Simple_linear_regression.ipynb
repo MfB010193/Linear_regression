{
 "cells": [
  {
   "cell_type": "markdown",
   "id": "a022ed85",
   "metadata": {},
   "source": [
    "# Simple Linear Regression"
   ]
  },
  {
   "cell_type": "code",
   "execution_count": 17,
   "id": "b1a05986",
   "metadata": {},
   "outputs": [],
   "source": [
    "import pandas as pd \n",
    "import numpy as np\n",
    "import matplotlib.pyplot as plt\n",
    "from matplotlib.animation import FuncAnimation\n",
    "import matplotlib.axes as axes\n",
    "from sklearn.model_selection import train_test_split\n",
    "from sklearn.linear_model import LinearRegression"
   ]
  },
  {
   "cell_type": "code",
   "execution_count": 18,
   "id": "219ed122",
   "metadata": {},
   "outputs": [
    {
     "data": {
      "text/html": [
       "<div>\n",
       "<style scoped>\n",
       "    .dataframe tbody tr th:only-of-type {\n",
       "        vertical-align: middle;\n",
       "    }\n",
       "\n",
       "    .dataframe tbody tr th {\n",
       "        vertical-align: top;\n",
       "    }\n",
       "\n",
       "    .dataframe thead th {\n",
       "        text-align: right;\n",
       "    }\n",
       "</style>\n",
       "<table border=\"1\" class=\"dataframe\">\n",
       "  <thead>\n",
       "    <tr style=\"text-align: right;\">\n",
       "      <th></th>\n",
       "      <th>x</th>\n",
       "      <th>y</th>\n",
       "    </tr>\n",
       "  </thead>\n",
       "  <tbody>\n",
       "    <tr>\n",
       "      <th>0</th>\n",
       "      <td>24.0</td>\n",
       "      <td>21.549452</td>\n",
       "    </tr>\n",
       "    <tr>\n",
       "      <th>1</th>\n",
       "      <td>50.0</td>\n",
       "      <td>47.464463</td>\n",
       "    </tr>\n",
       "    <tr>\n",
       "      <th>2</th>\n",
       "      <td>15.0</td>\n",
       "      <td>17.218656</td>\n",
       "    </tr>\n",
       "    <tr>\n",
       "      <th>3</th>\n",
       "      <td>38.0</td>\n",
       "      <td>36.586398</td>\n",
       "    </tr>\n",
       "    <tr>\n",
       "      <th>4</th>\n",
       "      <td>87.0</td>\n",
       "      <td>87.288984</td>\n",
       "    </tr>\n",
       "  </tbody>\n",
       "</table>\n",
       "</div>"
      ],
      "text/plain": [
       "      x          y\n",
       "0  24.0  21.549452\n",
       "1  50.0  47.464463\n",
       "2  15.0  17.218656\n",
       "3  38.0  36.586398\n",
       "4  87.0  87.288984"
      ]
     },
     "execution_count": 18,
     "metadata": {},
     "output_type": "execute_result"
    }
   ],
   "source": [
    "# Load iris data set and show the first five rows of the data\n",
    "df = pd.read_csv('data_for_lr (1).csv')\n",
    "df.head()"
   ]
  },
  {
   "cell_type": "code",
   "execution_count": 19,
   "id": "5d63deda",
   "metadata": {},
   "outputs": [
    {
     "data": {
      "text/html": [
       "<div>\n",
       "<style scoped>\n",
       "    .dataframe tbody tr th:only-of-type {\n",
       "        vertical-align: middle;\n",
       "    }\n",
       "\n",
       "    .dataframe tbody tr th {\n",
       "        vertical-align: top;\n",
       "    }\n",
       "\n",
       "    .dataframe thead th {\n",
       "        text-align: right;\n",
       "    }\n",
       "</style>\n",
       "<table border=\"1\" class=\"dataframe\">\n",
       "  <thead>\n",
       "    <tr style=\"text-align: right;\">\n",
       "      <th></th>\n",
       "      <th>x</th>\n",
       "      <th>y</th>\n",
       "    </tr>\n",
       "  </thead>\n",
       "  <tbody>\n",
       "    <tr>\n",
       "      <th>count</th>\n",
       "      <td>700.000000</td>\n",
       "      <td>699.000000</td>\n",
       "    </tr>\n",
       "    <tr>\n",
       "      <th>mean</th>\n",
       "      <td>54.985939</td>\n",
       "      <td>49.939869</td>\n",
       "    </tr>\n",
       "    <tr>\n",
       "      <th>std</th>\n",
       "      <td>134.681703</td>\n",
       "      <td>29.109217</td>\n",
       "    </tr>\n",
       "    <tr>\n",
       "      <th>min</th>\n",
       "      <td>0.000000</td>\n",
       "      <td>-3.839981</td>\n",
       "    </tr>\n",
       "    <tr>\n",
       "      <th>25%</th>\n",
       "      <td>25.000000</td>\n",
       "      <td>24.929968</td>\n",
       "    </tr>\n",
       "    <tr>\n",
       "      <th>50%</th>\n",
       "      <td>49.000000</td>\n",
       "      <td>48.973020</td>\n",
       "    </tr>\n",
       "    <tr>\n",
       "      <th>75%</th>\n",
       "      <td>75.000000</td>\n",
       "      <td>74.929911</td>\n",
       "    </tr>\n",
       "    <tr>\n",
       "      <th>max</th>\n",
       "      <td>3530.157369</td>\n",
       "      <td>108.871618</td>\n",
       "    </tr>\n",
       "  </tbody>\n",
       "</table>\n",
       "</div>"
      ],
      "text/plain": [
       "                 x           y\n",
       "count   700.000000  699.000000\n",
       "mean     54.985939   49.939869\n",
       "std     134.681703   29.109217\n",
       "min       0.000000   -3.839981\n",
       "25%      25.000000   24.929968\n",
       "50%      49.000000   48.973020\n",
       "75%      75.000000   74.929911\n",
       "max    3530.157369  108.871618"
      ]
     },
     "execution_count": 19,
     "metadata": {},
     "output_type": "execute_result"
    }
   ],
   "source": [
    "# Stastical describion of the data\n",
    "df.describe()"
   ]
  },
  {
   "cell_type": "code",
   "execution_count": 20,
   "id": "c2cf1714",
   "metadata": {},
   "outputs": [],
   "source": [
    "df = df.dropna()\n"
   ]
  },
  {
   "cell_type": "code",
   "execution_count": 21,
   "id": "41acc513",
   "metadata": {},
   "outputs": [],
   "source": [
    "# separate the data into tran and test datas\n",
    "x_train = np.array(df.x[0:500]).reshape(500,1)\n",
    "y_train = np.array(df.y[0:500]).reshape(500,1)\n",
    "\n",
    "x_test = np.array(df.x[500:700]).reshape(199,1)\n",
    "y_test = np.array(df.y[500:700]).reshape(199,1)"
   ]
  },
  {
   "cell_type": "code",
   "execution_count": 33,
   "id": "b4fd3fb7",
   "metadata": {},
   "outputs": [],
   "source": [
    "import numpy as np\n",
    "import matplotlib.pyplot as plt\n",
    "from matplotlib.animation import FuncAnimation\n",
    "\n",
    "class LinearRegression:\n",
    "    def __init__(self):\n",
    "        self.parameters = {}\n",
    "        self.loss = []\n",
    "\n",
    "    def forward_propagation(self, x_train):\n",
    "        m = self.parameters['m']\n",
    "        c = self.parameters['c']\n",
    "        prediction = np.multiply(m, x_train) + c\n",
    "        return prediction\n",
    "\n",
    "    def cost_function(self, prediction, y_train):\n",
    "        cost = np.mean((prediction - y_train) ** 2)\n",
    "        return cost\n",
    "\n",
    "    def backward_propagation(self, x_train, y_train, prediction):\n",
    "        derivatives = {}\n",
    "        df = prediction - y_train\n",
    "        dm = np.mean(np.multiply(df, x_train))\n",
    "        dc = np.mean(df)\n",
    "        derivatives['dm'] = dm\n",
    "        derivatives['dc'] = dc\n",
    "        return derivatives\n",
    "\n",
    "    def update_parameters(self, derivatives, learning_rate):\n",
    "        self.parameters['m'] -= learning_rate * derivatives['dm']\n",
    "        self.parameters['c'] -= learning_rate * derivatives['dc']\n",
    "\n",
    "    def train(self, x_train, y_train, learning_rate, iters):\n",
    "        # initialize parameters randomly\n",
    "        self.parameters['m'] = np.random.uniform(0, 1) * -1\n",
    "        self.parameters['c'] = np.random.uniform(0, 1) * -1\n",
    "        self.loss = []\n",
    "\n",
    "        fig, ax = plt.subplots()\n",
    "        x_vals = np.linspace(min(x_train), max(x_train), 100)\n",
    "\n",
    "        # initial regression line\n",
    "        line, = ax.plot(x_vals, self.parameters['m'] * x_vals + self.parameters['c'],\n",
    "                        color='red', label='Regression Line')\n",
    "        ax.scatter(x_train, y_train, marker='o', color='green', label='Training Data')\n",
    "        ax.set_ylim(0, max(y_train) + 1)\n",
    "\n",
    "        def update(frame):\n",
    "            prediction = self.forward_propagation(x_train)\n",
    "            cost = self.cost_function(prediction, y_train)\n",
    "            derivatives = self.backward_propagation(x_train, y_train, prediction)\n",
    "            self.update_parameters(derivatives, learning_rate)\n",
    "            line.set_ydata(self.parameters['m'] * x_vals + self.parameters['c'])\n",
    "            self.loss.append(cost)\n",
    "            print(f\"Iteration = {frame + 1}, Loss = {cost}\")\n",
    "            return line,\n",
    "\n",
    "        ani = FuncAnimation(fig, update, frames=iters, interval=200, blit=True)\n",
    "\n",
    "        # optional: save animation (requires ffmpeg)\n",
    "        # ani.save('linear_regression_A.gif', writer='ffmpeg')\n",
    "\n",
    "        plt.xlabel('Input')\n",
    "        plt.ylabel('Output')\n",
    "        plt.title('Linear Regression')\n",
    "        plt.legend()\n",
    "        plt.show()\n",
    "\n",
    "        return self.parameters, self.loss\n"
   ]
  },
  {
   "cell_type": "code",
   "execution_count": 35,
   "id": "349ba057",
   "metadata": {},
   "outputs": [
    {
     "name": "stdout",
     "output_type": "stream",
     "text": [
      "Iteration = 1, Loss = 97.28417898960399\n",
      "Iteration = 1, Loss = 16.23303078391623\n"
     ]
    },
    {
     "data": {
      "image/png": "[encoded data removed]",
      "text/plain": [
       "<Figure size 640x480 with 1 Axes>"
      ]
     },
     "metadata": {},
     "output_type": "display_data"
    },
    {
     "name": "stdout",
     "output_type": "stream",
     "text": [
      "Final Parameters: {'m': 1.501690538574609, 'c': 0.006868135481873816}\n"
     ]
    }
   ],
   "source": [
    "x_train = np.array([1, 2, 3, 4, 5])\n",
    "y_train = np.array([2, 4, 6, 8, 10])\n",
    "\n",
    "linear_reg = LinearRegression()\n",
    "parameters, loss = linear_reg.train(x_train, y_train, learning_rate=0.05, iters=20)\n",
    "print(\"Final Parameters:\", parameters)\n"
   ]
  },
  {
   "cell_type": "code",
   "execution_count": null,
   "id": "08562f61",
   "metadata": {},
   "outputs": [],
   "source": []
  }
 ],
 "metadata": {
  "kernelspec": {
   "display_name": "Python 3 (ipykernel)",
   "language": "python",
   "name": "python3"
  },
  "language_info": {
   "codemirror_mode": {
    "name": "ipython",
    "version": 3
   },
   "file_extension": ".py",
   "mimetype": "text/x-python",
   "name": "python",
   "nbconvert_exporter": "python",
   "pygments_lexer": "ipython3",
   "version": "3.10.9"
  }
 },
 "nbformat": 4,
 "nbformat_minor": 5
}
