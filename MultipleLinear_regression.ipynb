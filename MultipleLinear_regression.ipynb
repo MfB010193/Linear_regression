{
 "cells": [
  {
   "cell_type": "code",
   "execution_count": null,
   "id": "de1fcb6d",
   "metadata": {},
   "outputs": [],
   "source": [
    "import numpy as np\n",
    "import pandas as pd \n",
    "import matplotlib.pyplot as plt\n",
    "from sklearn.linear_model import LinearRegression\n",
    "from sklearn.model_selection import train_test_split\n",
    "from sklearn.metrics import mean_squared_error\n",
    "from sklearn.datasets import fetch_california_housing"
   ]
  },
  {
   "cell_type": "code",
   "execution_count": null,
   "id": "70de03de",
   "metadata": {},
   "outputs": [],
   "source": [
    "df = pd.read_csv('linear_regression2.csv', header= None)\n",
    "df.head()"
   ]
  },
  {
   "cell_type": "code",
   "execution_count": null,
   "id": "05d6fcc9",
   "metadata": {},
   "outputs": [],
   "source": [
    "df.isnull().sum()"
   ]
  },
  {
   "cell_type": "code",
   "execution_count": null,
   "id": "50cc9837",
   "metadata": {},
   "outputs": [],
   "source": [
    "fig, axes = plt.subplots( figsize = (12,4), nrows = 1, ncols =2)\n",
    "axes[0].scatter(df[0], df[2], color = 'b')\n",
    "axes[0].set_xlabel('size(square feet)')\n",
    "axes[0].set_ylabel('price')\n",
    "axes[0].set_title('House prices against size of house')\n",
    "axes[1].scatter(df[1],df[2], color = 'r')\n",
    "axes[1].set_xlabel('Number of bed rooms')\n",
    "axes[1].set_ylabel('price')\n",
    "axes[1].set_xticks(np.arange(1,6,step=1))\n",
    "axes[1].set_title('house prices against number of bed rooms')\n",
    "plt.tight_layout()"
   ]
  },
  {
   "cell_type": "code",
   "execution_count": null,
   "id": "50338d70",
   "metadata": {},
   "outputs": [],
   "source": [
    "california_housing = fetch_california_housing()\n",
    "x = pd.DataFrame(california_housing.data, columns = california_housing.feature_names)\n",
    "y =  pd.Series(california_housing.target)"
   ]
  },
  {
   "cell_type": "code",
   "execution_count": null,
   "id": "2461538d",
   "metadata": {},
   "outputs": [],
   "source": [
    "x = x[['MedInc', 'AveRooms']]"
   ]
  },
  {
   "cell_type": "code",
   "execution_count": null,
   "id": "e7c9bf19",
   "metadata": {},
   "outputs": [],
   "source": [
    "x_train, x_test, y_train, y_test =train_test_split(x,y,test_size =0.2, random_state=42)"
   ]
  },
  {
   "cell_type": "code",
   "execution_count": null,
   "id": "e73d003b",
   "metadata": {},
   "outputs": [],
   "source": [
    "model = LinearRegression() # define model\n",
    "model.fit(x_train, y_train) # train the model\n",
    "y_pred = model.predict(x_test)  # making prediction"
   ]
  },
  {
   "cell_type": "code",
   "execution_count": null,
   "id": "20805545",
   "metadata": {},
   "outputs": [],
   "source": [
    "# visualize best fit line with 3D\n",
    "fig = plt.figure(figsize= (12,7))\n",
    "ax = fig.add_subplot(1,1,1, projection = '3d')\n",
    "ax.scatter(x_test['MedInc'], x_test['AveRooms'], y_test, color = 'b', label = 'Actual data')\n",
    "\n",
    "x1_range = np.linspace(x_test['MedInc'].min(), x_test['MedInc'].max(),100)\n",
    "x2_range = np.linspace(x_test['AveRooms'].min(), x_test['AveRooms'].max(), 100)\n",
    "x1, x2 = np.meshgrid(x1_range, x2_range)\n",
    "\n",
    "z = model.predict(np.c_[x1.ravel(), x2.ravel()]).reshape(x1.shape)\n",
    "\n",
    "ax.plot_surface(x1, x2, z, color='red', alpha=0.5, rstride=100, cstride=100)\n",
    "ax.set_xlabel('Median Income')\n",
    "ax.set_ylabel('Average Rooms')\n",
    "ax.set_zlabel('House Price')\n",
    "ax.set_title('Multiple Linear Regression Best Fit Line (3D)')\n",
    "\n",
    "plt.show()"
   ]
  },
  {
   "cell_type": "code",
   "execution_count": null,
   "id": "20061e04",
   "metadata": {},
   "outputs": [],
   "source": []
  }
 ],
 "metadata": {
  "kernelspec": {
   "display_name": "Python 3 (ipykernel)",
   "language": "python",
   "name": "python3"
  },
  "language_info": {
   "codemirror_mode": {
    "name": "ipython",
    "version": 3
   },
   "file_extension": ".py",
   "mimetype": "text/x-python",
   "name": "python",
   "nbconvert_exporter": "python",
   "pygments_lexer": "ipython3",
   "version": "3.10.9"
  }
 },
 "nbformat": 4,
 "nbformat_minor": 5
}
